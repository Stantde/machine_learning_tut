{
 "cells": [
  {
   "cell_type": "markdown",
   "id": "18d8623c-11aa-46bf-a68c-ca6b80e156e7",
   "metadata": {
    "editable": true,
    "slideshow": {
     "slide_type": ""
    },
    "tags": []
   },
   "source": [
    "This is the first cell in jupyter lab!\n",
    "This cell is created in Markdown mode."
   ]
  },
  {
   "cell_type": "code",
   "execution_count": 6,
   "id": "1ce1ba19-608c-40b2-9c1b-a2f259100dc7",
   "metadata": {},
   "outputs": [
    {
     "name": "stdout",
     "output_type": "stream",
     "text": [
      "Hello World!\n"
     ]
    }
   ],
   "source": [
    "# This cell is created in code mode.\n",
    "# It uses the IPython kernel\n",
    "s = \"Hello World!\"\n",
    "print(\"Hello World!\")\n"
   ]
  },
  {
   "cell_type": "code",
   "execution_count": 7,
   "id": "901f5336-e26d-4d70-8da0-48741bfdeb5a",
   "metadata": {},
   "outputs": [
    {
     "name": "stdout",
     "output_type": "stream",
     "text": [
      "Variable   Type    Data/Info\n",
      "----------------------------\n",
      "s          str     Hello World!\n"
     ]
    }
   ],
   "source": [
    "''' \n",
    "Code cells have a little extra magic like being able to call command line commands.\n",
    "They also have their own set of commands as demonstrated below.\n",
    "'''\n",
    "\n",
    "%whos\n"
   ]
  },
  {
   "cell_type": "code",
   "execution_count": null,
   "id": "5fbfe751-3571-48a6-9c6e-f5c2076089e3",
   "metadata": {},
   "outputs": [],
   "source": []
  }
 ],
 "metadata": {
  "kernelspec": {
   "display_name": "Python 3 (ipykernel)",
   "language": "python",
   "name": "python3"
  },
  "language_info": {
   "codemirror_mode": {
    "name": "ipython",
    "version": 3
   },
   "file_extension": ".py",
   "mimetype": "text/x-python",
   "name": "python",
   "nbconvert_exporter": "python",
   "pygments_lexer": "ipython3",
   "version": "3.11.2"
  }
 },
 "nbformat": 4,
 "nbformat_minor": 5
}
